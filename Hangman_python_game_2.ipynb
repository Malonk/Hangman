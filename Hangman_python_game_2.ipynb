{
 "cells": [
  {
   "cell_type": "markdown",
   "metadata": {},
   "source": [
    "## 2nd version"
   ]
  },
  {
   "cell_type": "code",
   "execution_count": null,
   "metadata": {},
   "outputs": [],
   "source": [
    "import random\n",
    "import re\n",
    "\n",
    "sports = [\"gymnastics\", \n",
    "             \"basketball\", \n",
    "             \"swimming\", \n",
    "             \"badminton\", \n",
    "             \"cycling\", \n",
    "             \"sailing\", \n",
    "             \"hockey\", \n",
    "             \"tennis\", \n",
    "             \"surfing\", \n",
    "             \"karate\"]\n",
    "\n",
    "attempts = 8\n",
    "word = list(random.choice(sports))\n",
    "partial = [\" _ \"] * len(word)\n",
    "word_joined = \"\".join(word)\n",
    "\n",
    "# print(word)\n",
    "\n",
    "def start():\n",
    "    print(\"Are you ready to guess which sports I like?\")\n",
    "    player_choice = input(\"yes or no?\")\n",
    "    if player_choice == \"yes\":\n",
    "        print(\"Great, let's start! You have 8 attempts to guess the sports.\")\n",
    "    elif player_choice == \"no\":\n",
    "        print(\"Have a great day then!\")\n",
    "    else:\n",
    "        print(\"Pretty sure this isn't a lower case 'yes' or 'no', type again\")\n",
    "        start()\n",
    "    return player_choice\n",
    "\n",
    "def guess():\n",
    "    player_attempt = input(\"Do you want to guess the word, yes or no?\")\n",
    "    if not (re.match(\"^[a-z]+$\", player_attempt)):\n",
    "        print(\"That wasn't a proper answer\")\n",
    "        guess()\n",
    "    elif player_attempt == \"no\":\n",
    "        print(\"Ok you can pick another letter\")\n",
    "    elif player_attempt == \"yes\":\n",
    "        player_answer = input(\"Give it a try!\")\n",
    "        if player_answer == word_joined:\n",
    "            print(\"You're a winner!\")\n",
    "        else: \n",
    "            print(\"Gosh no, guess another letter!\")\n",
    "    return(player_answer)\n",
    "\n",
    "start()\n",
    "\n",
    "def repl_letter(partial, guess): \n",
    "    for i, letter in enumerate(word):\n",
    "        if guess == letter:\n",
    "            partial[i] = guess\n",
    "            print(\"Well done!\") \n",
    "    return partial\n",
    "\n",
    "partial = [\" _ \"] * len(word)\n",
    "\n",
    "attempts = 8\n",
    "while attempts > 0:\n",
    "    attempts -= 1 \n",
    "    guess = input(\" Pick a letter: \")       \n",
    "    partial = repl_letter(partial, guess) \n",
    "    print(\"\".join(partial)) \n",
    "    print(f\"You have {attempts} left.\") \n",
    "    if attempts == 0: \n",
    "        print(\"You lost, sorry. Try to guess it in the next round\") \n",
    "        start() "
   ]
  },
  {
   "cell_type": "code",
   "execution_count": null,
   "metadata": {},
   "outputs": [],
   "source": [
    "start()"
   ]
  },
  {
   "cell_type": "code",
   "execution_count": null,
   "metadata": {},
   "outputs": [],
   "source": []
  }
 ],
 "metadata": {
  "kernelspec": {
   "display_name": "Python 3",
   "language": "python",
   "name": "python3"
  },
  "language_info": {
   "codemirror_mode": {
    "name": "ipython",
    "version": 3
   },
   "file_extension": ".py",
   "mimetype": "text/x-python",
   "name": "python",
   "nbconvert_exporter": "python",
   "pygments_lexer": "ipython3",
   "version": "3.8.5"
  }
 },
 "nbformat": 4,
 "nbformat_minor": 4
}
