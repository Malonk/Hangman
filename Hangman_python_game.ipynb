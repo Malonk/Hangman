{
 "cells": [
  {
   "cell_type": "markdown",
   "metadata": {},
   "source": [
    "## Function: Pick_letter ( = Game play)"
   ]
  },
  {
   "cell_type": "code",
   "execution_count": null,
   "metadata": {},
   "outputs": [],
   "source": [
    "def pick_letter(word):\n",
    "    for guess in range(8):\n",
    "        player_guess = input(\"Pick a letter\")\n",
    "        if player_guess in word:\n",
    "            print(\"Hooray!\")\n",
    "            for i, letter in enumerate(word):\n",
    "                if player_guess == letter:\n",
    "                    letters[i] = player_guess\n",
    "            print(letters) \n",
    "        elif not (re.match(\"^[a-z]$\", player_guess)):\n",
    "            print(\"This isn't a lower case letter, type again\")\n",
    "        else:\n",
    "            print(\"Bummer, this letter isn't in the word. Try again!\")\n",
    "    return(player_guess)\n",
    "pick_letter(word)"
   ]
  },
  {
   "cell_type": "markdown",
   "metadata": {},
   "source": [
    "## Bringing it all together: integrating other parts with pick_letter"
   ]
  },
  {
   "cell_type": "code",
   "execution_count": null,
   "metadata": {},
   "outputs": [],
   "source": [
    "import random\n",
    "import re\n",
    "\n",
    "sports = [\"gymnastics\", \n",
    "             \"basketball\", \n",
    "             \"swimming\", \n",
    "             \"badminton\", \n",
    "             \"cycling\", \n",
    "             \"sailing\", \n",
    "             \"hockey\", \n",
    "             \"tennis\", \n",
    "             \"surfing\", \n",
    "             \"karate\"]\n",
    "\n",
    "attempts = 8\n",
    "word = list(random.choice(sports))\n",
    "word_joined = \"\".join(word)\n",
    "letters = [\"_\"] * len(word)\n",
    "\n",
    "print(word_joined)\n",
    "\n",
    "\n",
    "# Introduction to the game\n",
    "\n",
    "def start():\n",
    "    print(\"Are you ready to guess which sports I like?\")\n",
    "    player_choice = input(\"yes or no?\")\n",
    "    if not (re.match(\"^[a-z]+$\", player_choice)):\n",
    "        print(\"Pretty sure this isn't a lower case 'yes' or 'no', type again\")##loop breaks after        \n",
    "    elif player_choice == \"yes\":\n",
    "        print(\"Great, let's start! You have 8 attempts to guess the sports.\")\n",
    "        pick_letter(word) ##added\n",
    "    elif player_choice == \"no\":\n",
    "        print(\"Have a great day then!\")\n",
    "#    elif not (re.match(\"^[a-z]+$\", player_choice)):\n",
    "#        print(\"Pretty sure this isn't a lower case 'yes' or 'no', type again\")##loop breaks after\n",
    "    return player_choice\n",
    "\n",
    "# Guess the word. After every correct letter, this should be asked\n",
    "\n",
    "def guess():\n",
    "    player_attempt = input(\"Do you want to guess the word, yes or no?\")\n",
    "    if not (re.match(\"^[a-z]+$\", player_attempt)):#added \n",
    "        print(\"That wasn't a proper answer\")#added\n",
    "        guess()#added   \n",
    "    elif player_attempt == \"no\":\n",
    "        pick_letter(word) ##added\n",
    "    elif player_attempt == \"yes\":\n",
    "        player_answer = input(\"Give it a try!\")\n",
    "        if player_answer == word_joined:\n",
    "            print(\"You're a winner!\")\n",
    "        else: \n",
    "            print(\"Gosh no, guess another letter!\")\n",
    "    return(player_answer)\n",
    "\n",
    "def pick_letter(word):\n",
    "#    for guess in range(8):\n",
    "    player_guess = input(\"Pick a letter\")\n",
    "    attempts = 8 ##added\n",
    "    while attempts > 0: #adding the while loop for 8 attempts\n",
    "        attempts -= 1#not deducting....\n",
    "        print(f\"You have {attempts} left.\")#sees it as a guess and stops\n",
    "#        if attempts == 0: ##indented 1 more into while loop\n",
    "#            print(\"You lost... Let's start again!\")\n",
    "#            start()\n",
    "        if not (re.match(\"^[a-z]$\", player_guess)): ##added to top\n",
    "            print(\"This isn't a lower case letter, type again\")\n",
    "            pick_letter(word)##added because was breaking after\n",
    "        elif player_guess in word:\n",
    "            print(f\"Hooray! You have {attempts} left.\") #added attempts inside \n",
    "            for i, letter in enumerate(word):\n",
    "                if player_guess == letter:\n",
    "                    letters[i] = player_guess\n",
    "                    print(letters) ##+++(see bugs)\n",
    "                    guess()##added ##---(see bugs)\n",
    "                    pick_letter(word)##added\n",
    "        else:\n",
    "            print(f\"Bummer, this letter isn't in the word. Try again, you have {attempts} left.\")##added \n",
    "            pick_letter(word)#added \n",
    "    return(player_guess)\n"
   ]
  },
  {
   "cell_type": "markdown",
   "metadata": {},
   "source": [
    "## Start the game"
   ]
  },
  {
   "cell_type": "code",
   "execution_count": null,
   "metadata": {},
   "outputs": [],
   "source": [
    "start()"
   ]
  },
  {
   "cell_type": "markdown",
   "metadata": {},
   "source": [
    "## Bugs\n",
    "\n",
    "### Answering 'yes' all the time:\n",
    "#### - attempts is not deducting and stays at 7\n",
    "\n",
    "### Start the game:\n",
    "#### - Giving wrong input, prints \"pretty sure it isnt a ..\" and breaks \n",
    "\n",
    "### Pick letter / game play:\n",
    "#### - Giving wrong letter, attempts is not deducting and stays at 7 \n",
    "#### - +++ Giving correct letter, does not add on all places - only on 1st place. In original function it does work!\n",
    "#### - --- When winning the game, it asks to give a letter again\n",
    "\n",
    "### Guess the word:\n",
    "#### - When giving wrong input it breaks \n",
    "#### - When giving right word, shows you win, but asks to pick another letter\n",
    "#### - need to add attempt counter for every false word given"
   ]
  },
  {
   "cell_type": "code",
   "execution_count": null,
   "metadata": {},
   "outputs": [],
   "source": []
  }
 ],
 "metadata": {
  "kernelspec": {
   "display_name": "Python 3",
   "language": "python",
   "name": "python3"
  },
  "language_info": {
   "codemirror_mode": {
    "name": "ipython",
    "version": 3
   },
   "file_extension": ".py",
   "mimetype": "text/x-python",
   "name": "python",
   "nbconvert_exporter": "python",
   "pygments_lexer": "ipython3",
   "version": "3.8.5"
  }
 },
 "nbformat": 4,
 "nbformat_minor": 4
}
